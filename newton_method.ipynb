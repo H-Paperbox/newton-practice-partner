{
 "cells": [
  {
   "cell_type": "code",
   "execution_count": 17,
   "id": "1f0f8ea2-072f-4e82-9a2b-ba8776c57054",
   "metadata": {},
   "outputs": [
    {
     "name": "stdout",
     "output_type": "stream",
     "text": [
      "10.000000486343197\n",
      "2.0179413695586845\n",
      "0.04445439436619747\n"
     ]
    },
    {
     "data": {
      "text/plain": [
       "0.04445439436619747"
      ]
     },
     "execution_count": 17,
     "metadata": {},
     "output_type": "execute_result"
    }
   ],
   "source": [
    "def function(x):\n",
    "    return float(x**2) + 10\n",
    "    \n",
    "epsilon=0.0000005\n",
    "def derivative(x):\n",
    "    return float((function(x + epsilon) - function(x))/epsilon)\n",
    "    \n",
    "def newton_method(x, func):\n",
    "    x_t_1 = x\n",
    "    x_t = 0\n",
    "    while True:\n",
    "        d1 = derivative(x)\n",
    "        print(d1)\n",
    "        d2 = (derivative(x + epsilon) - derivative(x))/ epsilon\n",
    "        print(d2)\n",
    "        x_t = x_t_1 - (d1/d2)\n",
    "        print(x_t)\n",
    "        if abs(x_t - x_t_1) < 6:\n",
    "            break\n",
    "        x_t_1 = x_t\n",
    "    return x_t\n",
    "\n",
    "\n",
    "    \n",
    "    \n",
    "newton_method(5, function)"
   ]
  },
  {
   "cell_type": "code",
   "execution_count": null,
   "id": "51da3408-7c0a-4667-8e6c-996c02df6438",
   "metadata": {},
   "outputs": [],
   "source": []
  }
 ],
 "metadata": {
  "kernelspec": {
   "display_name": "Python 3 (ipykernel)",
   "language": "python",
   "name": "python3"
  },
  "language_info": {
   "codemirror_mode": {
    "name": "ipython",
    "version": 3
   },
   "file_extension": ".py",
   "mimetype": "text/x-python",
   "name": "python",
   "nbconvert_exporter": "python",
   "pygments_lexer": "ipython3",
   "version": "3.11.9"
  }
 },
 "nbformat": 4,
 "nbformat_minor": 5
}
